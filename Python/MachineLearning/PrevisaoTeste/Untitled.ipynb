{
 "cells": [
  {
   "cell_type": "code",
   "execution_count": 29,
   "metadata": {},
   "outputs": [],
   "source": [
    "from keras.models import Sequential\n",
    "from keras.layers import Dense, Dropout, LSTM\n",
    "import keras\n",
    "import keras.backend as K\n",
    "import numpy as np\n",
    "import pandas as pd\n",
    "import matplotlib.pyplot as plt\n",
    "import matplotlib.dates as dates\n",
    "import seaborn as sns\n",
    "import warnings\n",
    "\n",
    "# ignorar warnings\n",
    "warnings.filterwarnings('ignore')\n",
    "%matplotlib inline"
   ]
  },
  {
   "cell_type": "code",
   "execution_count": 30,
   "metadata": {},
   "outputs": [],
   "source": [
    "#leitura das cotações\n",
    "base = pd.read_csv('ABEV3.SA.csv')"
   ]
  },
  {
   "cell_type": "code",
   "execution_count": 31,
   "metadata": {},
   "outputs": [
    {
     "data": {
      "text/plain": [
       "Date          0\n",
       "Open         13\n",
       "High         13\n",
       "Low          13\n",
       "Close        13\n",
       "Adj Close    13\n",
       "Volume       13\n",
       "dtype: int64"
      ]
     },
     "execution_count": 31,
     "metadata": {},
     "output_type": "execute_result"
    }
   ],
   "source": [
    "base.isnull().sum()"
   ]
  },
  {
   "cell_type": "code",
   "execution_count": 32,
   "metadata": {},
   "outputs": [],
   "source": [
    "#remove os dados 'NULL'\n",
    "base.dropna(inplace=True)\n",
    "#base_treinamento recebe apenas os valores de Abertura\n",
    "base_treinamento = base.iloc[:,1:2].values\n",
    "base = base['Open']"
   ]
  },
  {
   "cell_type": "code",
   "execution_count": 33,
   "metadata": {},
   "outputs": [
    {
     "data": {
      "text/plain": [
       "array([[0.11620283],\n",
       "       [0.11767347],\n",
       "       [0.11664545],\n",
       "       [0.11767347],\n",
       "       [0.11782205]])"
      ]
     },
     "execution_count": 33,
     "metadata": {},
     "output_type": "execute_result"
    }
   ],
   "source": [
    "#os dados serão normalizados para melhorar a performance e dimensionalidade (escala entre 0 e 1)\n",
    "from sklearn.preprocessing import MinMaxScaler\n",
    "min_scaler = MinMaxScaler(feature_range=(0,1))\n",
    "base_treinamento_normalizado = min_scaler.fit_transform(base_treinamento)\n",
    "base_treinamento_normalizado[0:5]"
   ]
  },
  {
   "cell_type": "code",
   "execution_count": 34,
   "metadata": {},
   "outputs": [],
   "source": [
    "#Utilizaremos uma janela de 500 dias anteriores da base de treinamento para nossas previsões.\n",
    "previsores = []\n",
    "preco_real = []\n",
    "\n",
    "for i in range(500, len(base)):\n",
    "    previsores.append(base_treinamento_normalizado[i-500:i,0])\n",
    "    preco_real.append(base_treinamento_normalizado[i,0])\n",
    "    "
   ]
  },
  {
   "cell_type": "code",
   "execution_count": 35,
   "metadata": {},
   "outputs": [
    {
     "name": "stdout",
     "output_type": "stream",
     "text": [
      "Tamanho do Dataset criado de previsores 3356\n",
      "Tamanho do Dataset criado de preco_real 3356\n"
     ]
    }
   ],
   "source": [
    "print('Tamanho do Dataset criado de previsores', len(previsores))\n",
    "print('Tamanho do Dataset criado de preco_real', len(preco_real))"
   ]
  },
  {
   "cell_type": "code",
   "execution_count": 36,
   "metadata": {},
   "outputs": [
    {
     "name": "stdout",
     "output_type": "stream",
     "text": [
      "Formato Previsores (3356, 500)\n",
      "Formato Preco_real (3356,)\n"
     ]
    }
   ],
   "source": [
    "#Os dados serão transformados para o formato do Numpy\n",
    "previsores, preco_real = np.array(previsores), np.array(preco_real)\n",
    "print('Formato Previsores', previsores.shape)\n",
    "print('Formato Preco_real', preco_real.shape)"
   ]
  },
  {
   "cell_type": "code",
   "execution_count": 37,
   "metadata": {},
   "outputs": [
    {
     "data": {
      "text/plain": [
       "(3356, 500, 1)"
      ]
     },
     "execution_count": 37,
     "metadata": {},
     "output_type": "execute_result"
    }
   ],
   "source": [
    "#Converter o formato para o padrão Keras\n",
    "previsores = np.reshape(previsores, newshape = (previsores.shape[0], previsores.shape[1], 1))\n",
    "previsores.shape"
   ]
  },
  {
   "cell_type": "code",
   "execution_count": 38,
   "metadata": {},
   "outputs": [],
   "source": [
    "#Criação do regressor com Rede Neural Recorrente\n",
    "regressor = Sequential()\n",
    "regressor.add(LSTM(units = 100, return_sequences = True, input_shape = (previsores.shape[1], 1)))\n",
    "\n",
    "regressor.add(Dropout(0.3))\n",
    "\n",
    "regressor.add(LSTM(units = 50, return_sequences = True))\n",
    "regressor.add(Dropout(0.3))\n",
    "\n",
    "regressor.add(LSTM(units = 50, return_sequences = True))\n",
    "regressor.add(Dropout(0.3))\n",
    "\n",
    "regressor.add(LSTM(units = 50, return_sequences = False))\n",
    "regressor.add(Dropout(0.3))\n",
    "\n",
    "regressor.add(Dense(units=1, activation='linear'))"
   ]
  },
  {
   "cell_type": "code",
   "execution_count": 39,
   "metadata": {},
   "outputs": [],
   "source": [
    "regressor.compile(optimizer='adam', loss='mean_squared_error', metrics=['mean_absolute_error'])"
   ]
  },
  {
   "cell_type": "code",
   "execution_count": 40,
   "metadata": {},
   "outputs": [
    {
     "name": "stdout",
     "output_type": "stream",
     "text": [
      "Epoch 1/2\n",
      "105/105 [==============================] - 78s 739ms/step - loss: 0.0174 - mean_absolute_error: 0.0851\n",
      "Epoch 2/2\n",
      "105/105 [==============================] - 77s 734ms/step - loss: 0.0054 - mean_absolute_error: 0.0520\n"
     ]
    },
    {
     "data": {
      "text/plain": [
       "<tensorflow.python.keras.callbacks.History at 0x1903ddcf488>"
      ]
     },
     "execution_count": 40,
     "metadata": {},
     "output_type": "execute_result"
    }
   ],
   "source": [
    "#Treinamento da Rede Neural\n",
    "regressor.fit(previsores, preco_real, epochs=2, batch_size=32)"
   ]
  },
  {
   "cell_type": "code",
   "execution_count": 42,
   "metadata": {
    "scrolled": true
   },
   "outputs": [],
   "source": [
    "previsoes_teste = pd.DataFrame(columns=['teste'])\n",
    "for i in range(0, 23):\n",
    "    X_teste = []\n",
    "    entradas = base[len(base) - 3500:].values\n",
    "    entradas = entradas.reshape(-1,1)\n",
    "    entradas = min_scaler.transform(entradas)\n",
    "    \n",
    "    X_teste.append(entradas[0:,0])\n",
    "    X_teste = np.array(X_teste)\n",
    "    X_teste = np.reshape(X_teste, newshape=(X_teste.shape[0], X_teste.shape[1], 1))\n",
    "    \n",
    "    previsoes = regressor.predict(X_teste)\n",
    "    previsoes = min_scaler.inverse_transform(previsoes)  \n",
    "\n",
    "    previsoes_teste.loc[i] = previsoes[0][0]\n",
    "    previsoes_teste\n",
    "    \n",
    "    previsoes = pd.DataFrame(np.array(previsoes).T)\n",
    "    \n",
    "    \n",
    "    base = base.append(previsoes, ignore_index = True)"
   ]
  },
  {
   "cell_type": "code",
   "execution_count": 43,
   "metadata": {},
   "outputs": [
    {
     "data": {
      "text/plain": [
       "array([[17.21],\n",
       "       [17.3 ],\n",
       "       [17.39],\n",
       "       [17.48],\n",
       "       [17.57],\n",
       "       [17.66],\n",
       "       [17.75],\n",
       "       [17.84],\n",
       "       [17.92],\n",
       "       [18.01],\n",
       "       [18.1 ],\n",
       "       [18.19],\n",
       "       [18.27],\n",
       "       [18.36],\n",
       "       [18.45],\n",
       "       [18.54],\n",
       "       [18.62],\n",
       "       [18.71],\n",
       "       [18.79],\n",
       "       [18.88],\n",
       "       [18.97],\n",
       "       [19.05],\n",
       "       [19.14]], dtype=float32)"
      ]
     },
     "execution_count": 43,
     "metadata": {},
     "output_type": "execute_result"
    }
   ],
   "source": [
    "previsoes_teste = previsoes_teste.iloc[:,0:].values\n",
    "previsoes_teste = np.round(previsoes_teste, 2)\n",
    "previsoes_teste"
   ]
  },
  {
   "cell_type": "code",
   "execution_count": 44,
   "metadata": {},
   "outputs": [
    {
     "data": {
      "text/plain": [
       "array([[14.49],\n",
       "       [14.93],\n",
       "       [15.19],\n",
       "       [15.16],\n",
       "       [15.8 ],\n",
       "       [14.81],\n",
       "       [13.94],\n",
       "       [13.68],\n",
       "       [13.6 ],\n",
       "       [13.23],\n",
       "       [13.19],\n",
       "       [13.38],\n",
       "       [13.38],\n",
       "       [13.53],\n",
       "       [13.55],\n",
       "       [13.24],\n",
       "       [13.21],\n",
       "       [13.02],\n",
       "       [13.08],\n",
       "       [12.67],\n",
       "       [12.86],\n",
       "       [13.06],\n",
       "       [12.89]])"
      ]
     },
     "execution_count": 44,
     "metadata": {},
     "output_type": "execute_result"
    }
   ],
   "source": [
    "base_teste = pd.read_csv('ABEV3.SA_teste.csv')\n",
    "base_teste.isnull().sum().max()\n",
    "base_completa = pd.concat((base, base_teste['Open']), axis=0)\n",
    "base_completa.isnull().sum().max()\n",
    "base_completa.dropna(inplace=True)\n",
    "preco_real_teste = base_teste.iloc[:,1:2].values\n",
    "preco_real_teste"
   ]
  },
  {
   "cell_type": "code",
   "execution_count": 45,
   "metadata": {},
   "outputs": [],
   "source": [
    "quadro_previsao = np.concatenate((preco_real_teste, previsoes_teste), axis= 1)"
   ]
  },
  {
   "cell_type": "code",
   "execution_count": 47,
   "metadata": {},
   "outputs": [
    {
     "data": {
      "text/html": [
       "<div>\n",
       "<style scoped>\n",
       "    .dataframe tbody tr th:only-of-type {\n",
       "        vertical-align: middle;\n",
       "    }\n",
       "\n",
       "    .dataframe tbody tr th {\n",
       "        vertical-align: top;\n",
       "    }\n",
       "\n",
       "    .dataframe thead th {\n",
       "        text-align: right;\n",
       "    }\n",
       "</style>\n",
       "<table border=\"1\" class=\"dataframe\">\n",
       "  <thead>\n",
       "    <tr style=\"text-align: right;\">\n",
       "      <th></th>\n",
       "      <th>Preco_real</th>\n",
       "      <th>Previsao</th>\n",
       "      <th>Erro</th>\n",
       "    </tr>\n",
       "  </thead>\n",
       "  <tbody>\n",
       "    <tr>\n",
       "      <th>0</th>\n",
       "      <td>14.49</td>\n",
       "      <td>17.21</td>\n",
       "      <td>-2.72</td>\n",
       "    </tr>\n",
       "    <tr>\n",
       "      <th>1</th>\n",
       "      <td>14.93</td>\n",
       "      <td>17.30</td>\n",
       "      <td>-2.37</td>\n",
       "    </tr>\n",
       "    <tr>\n",
       "      <th>2</th>\n",
       "      <td>15.19</td>\n",
       "      <td>17.39</td>\n",
       "      <td>-2.20</td>\n",
       "    </tr>\n",
       "    <tr>\n",
       "      <th>3</th>\n",
       "      <td>15.16</td>\n",
       "      <td>17.48</td>\n",
       "      <td>-2.32</td>\n",
       "    </tr>\n",
       "    <tr>\n",
       "      <th>4</th>\n",
       "      <td>15.80</td>\n",
       "      <td>17.57</td>\n",
       "      <td>-1.77</td>\n",
       "    </tr>\n",
       "    <tr>\n",
       "      <th>5</th>\n",
       "      <td>14.81</td>\n",
       "      <td>17.66</td>\n",
       "      <td>-2.85</td>\n",
       "    </tr>\n",
       "    <tr>\n",
       "      <th>6</th>\n",
       "      <td>13.94</td>\n",
       "      <td>17.75</td>\n",
       "      <td>-3.81</td>\n",
       "    </tr>\n",
       "    <tr>\n",
       "      <th>7</th>\n",
       "      <td>13.68</td>\n",
       "      <td>17.84</td>\n",
       "      <td>-4.16</td>\n",
       "    </tr>\n",
       "    <tr>\n",
       "      <th>8</th>\n",
       "      <td>13.60</td>\n",
       "      <td>17.92</td>\n",
       "      <td>-4.32</td>\n",
       "    </tr>\n",
       "    <tr>\n",
       "      <th>9</th>\n",
       "      <td>13.23</td>\n",
       "      <td>18.01</td>\n",
       "      <td>-4.78</td>\n",
       "    </tr>\n",
       "    <tr>\n",
       "      <th>10</th>\n",
       "      <td>13.19</td>\n",
       "      <td>18.10</td>\n",
       "      <td>-4.91</td>\n",
       "    </tr>\n",
       "    <tr>\n",
       "      <th>11</th>\n",
       "      <td>13.38</td>\n",
       "      <td>18.19</td>\n",
       "      <td>-4.81</td>\n",
       "    </tr>\n",
       "    <tr>\n",
       "      <th>12</th>\n",
       "      <td>13.38</td>\n",
       "      <td>18.27</td>\n",
       "      <td>-4.89</td>\n",
       "    </tr>\n",
       "    <tr>\n",
       "      <th>13</th>\n",
       "      <td>13.53</td>\n",
       "      <td>18.36</td>\n",
       "      <td>-4.83</td>\n",
       "    </tr>\n",
       "    <tr>\n",
       "      <th>14</th>\n",
       "      <td>13.55</td>\n",
       "      <td>18.45</td>\n",
       "      <td>-4.90</td>\n",
       "    </tr>\n",
       "    <tr>\n",
       "      <th>15</th>\n",
       "      <td>13.24</td>\n",
       "      <td>18.54</td>\n",
       "      <td>-5.30</td>\n",
       "    </tr>\n",
       "    <tr>\n",
       "      <th>16</th>\n",
       "      <td>13.21</td>\n",
       "      <td>18.62</td>\n",
       "      <td>-5.41</td>\n",
       "    </tr>\n",
       "    <tr>\n",
       "      <th>17</th>\n",
       "      <td>13.02</td>\n",
       "      <td>18.71</td>\n",
       "      <td>-5.69</td>\n",
       "    </tr>\n",
       "    <tr>\n",
       "      <th>18</th>\n",
       "      <td>13.08</td>\n",
       "      <td>18.79</td>\n",
       "      <td>-5.71</td>\n",
       "    </tr>\n",
       "    <tr>\n",
       "      <th>19</th>\n",
       "      <td>12.67</td>\n",
       "      <td>18.88</td>\n",
       "      <td>-6.21</td>\n",
       "    </tr>\n",
       "    <tr>\n",
       "      <th>20</th>\n",
       "      <td>12.86</td>\n",
       "      <td>18.97</td>\n",
       "      <td>-6.11</td>\n",
       "    </tr>\n",
       "    <tr>\n",
       "      <th>21</th>\n",
       "      <td>13.06</td>\n",
       "      <td>19.05</td>\n",
       "      <td>-5.99</td>\n",
       "    </tr>\n",
       "    <tr>\n",
       "      <th>22</th>\n",
       "      <td>12.89</td>\n",
       "      <td>19.14</td>\n",
       "      <td>-6.25</td>\n",
       "    </tr>\n",
       "  </tbody>\n",
       "</table>\n",
       "</div>"
      ],
      "text/plain": [
       "    Preco_real  Previsao  Erro\n",
       "0        14.49     17.21 -2.72\n",
       "1        14.93     17.30 -2.37\n",
       "2        15.19     17.39 -2.20\n",
       "3        15.16     17.48 -2.32\n",
       "4        15.80     17.57 -1.77\n",
       "5        14.81     17.66 -2.85\n",
       "6        13.94     17.75 -3.81\n",
       "7        13.68     17.84 -4.16\n",
       "8        13.60     17.92 -4.32\n",
       "9        13.23     18.01 -4.78\n",
       "10       13.19     18.10 -4.91\n",
       "11       13.38     18.19 -4.81\n",
       "12       13.38     18.27 -4.89\n",
       "13       13.53     18.36 -4.83\n",
       "14       13.55     18.45 -4.90\n",
       "15       13.24     18.54 -5.30\n",
       "16       13.21     18.62 -5.41\n",
       "17       13.02     18.71 -5.69\n",
       "18       13.08     18.79 -5.71\n",
       "19       12.67     18.88 -6.21\n",
       "20       12.86     18.97 -6.11\n",
       "21       13.06     19.05 -5.99\n",
       "22       12.89     19.14 -6.25"
      ]
     },
     "execution_count": 47,
     "metadata": {},
     "output_type": "execute_result"
    }
   ],
   "source": [
    "quadro_previsao = pd.DataFrame(quadro_previsao, columns=['Preco_real', 'Previsao'])\n",
    "quadro_previsao['Erro'] = quadro_previsao['Preco_real'] - quadro_previsao['Previsao']\n",
    "quadro_previsao['Erro'] = np.round(quadro_previsao['Erro'], 2)\n",
    "quadro_previsao['Previsao'] = np.round(quadro_previsao['Previsao'], 2)\n",
    "quadro_previsao"
   ]
  },
  {
   "cell_type": "code",
   "execution_count": 48,
   "metadata": {},
   "outputs": [
    {
     "name": "stdout",
     "output_type": "stream",
     "text": [
      "Media Preco Reais 13.734347826086958\n",
      "Media Previsoes 18.182606\n",
      "Diferenca da media entre o valor_real e a previsao 4.45\n"
     ]
    }
   ],
   "source": [
    "print('Media Preco Reais', preco_real_teste.mean())\n",
    "print('Media Previsoes', previsoes_teste.mean())\n",
    "print('Diferenca da media entre o valor_real e a previsao', round(previsoes_teste.mean() - preco_real_teste.mean(), 2))"
   ]
  },
  {
   "cell_type": "code",
   "execution_count": 49,
   "metadata": {},
   "outputs": [
    {
     "data": {
      "text/plain": [
       "<function matplotlib.pyplot.show(*args, **kw)>"
      ]
     },
     "execution_count": 49,
     "metadata": {},
     "output_type": "execute_result"
    },
    {
     "data": {
      "image/png": "[encoded data removed]",
      "text/plain": [
       "<Figure size 720x576 with 1 Axes>"
      ]
     },
     "metadata": {
      "needs_background": "light"
     },
     "output_type": "display_data"
    }
   ],
   "source": [
    "plt.figure(figsize=(10,8))\n",
    "plt.plot(preco_real_teste, color='red', label='Preco_Real')\n",
    "plt.plot(previsoes_teste, color = 'blue', label = 'Previsoes')\n",
    "plt.title('Previsao de preco da PETR4')\n",
    "plt.legend()\n",
    "plt.xlabel('Periodo')\n",
    "plt.ylabel('Precos')\n",
    "plt.show"
   ]
  },
  {
   "cell_type": "code",
   "execution_count": null,
   "metadata": {},
   "outputs": [],
   "source": []
  }
 ],
 "metadata": {
  "kernelspec": {
   "display_name": "Python 3",
   "language": "python",
   "name": "python3"
  },
  "language_info": {
   "codemirror_mode": {
    "name": "ipython",
    "version": 3
   },
   "file_extension": ".py",
   "mimetype": "text/x-python",
   "name": "python",
   "nbconvert_exporter": "python",
   "pygments_lexer": "ipython3",
   "version": "3.7.6"
  }
 },
 "nbformat": 4,
 "nbformat_minor": 4
}
