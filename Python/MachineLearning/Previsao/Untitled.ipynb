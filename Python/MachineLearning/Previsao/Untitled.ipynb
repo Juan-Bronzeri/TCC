{
 "cells": [
  {
   "cell_type": "code",
   "execution_count": 42,
   "metadata": {},
   "outputs": [],
   "source": [
    "from keras.models import Sequential\n",
    "from keras.layers import Dense, Dropout, LSTM\n",
    "import keras\n",
    "import keras.backend as K\n",
    "import numpy as np\n",
    "import pandas as pd\n",
    "import matplotlib.pyplot as plt\n",
    "import matplotlib.dates as dates\n",
    "import seaborn as sns\n",
    "import warnings\n",
    "\n",
    "# ignorar warnings\n",
    "warnings.filterwarnings('ignore')\n",
    "%matplotlib inline"
   ]
  },
  {
   "cell_type": "code",
   "execution_count": 43,
   "metadata": {},
   "outputs": [],
   "source": [
    "#leitura das cotações\n",
    "base = pd.read_csv('ABEV3.SA.csv')"
   ]
  },
  {
   "cell_type": "code",
   "execution_count": 44,
   "metadata": {},
   "outputs": [
    {
     "data": {
      "text/plain": [
       "Date          0\n",
       "Open         13\n",
       "High         13\n",
       "Low          13\n",
       "Close        13\n",
       "Adj Close    13\n",
       "Volume       13\n",
       "dtype: int64"
      ]
     },
     "execution_count": 44,
     "metadata": {},
     "output_type": "execute_result"
    }
   ],
   "source": [
    "#Mostra quantidade de dados 'NULL'\n",
    "base.isnull().sum()"
   ]
  },
  {
   "cell_type": "code",
   "execution_count": 45,
   "metadata": {},
   "outputs": [],
   "source": [
    "#remove os dados 'NULL'\n",
    "base.dropna(inplace=True)\n",
    "#base_treinamento recebe apenas os valores de Abertura\n",
    "base_treinamento = base.iloc[:,1:2].values"
   ]
  },
  {
   "cell_type": "code",
   "execution_count": 46,
   "metadata": {},
   "outputs": [
    {
     "data": {
      "text/plain": [
       "array([[0.11620283],\n",
       "       [0.11767347],\n",
       "       [0.11664545],\n",
       "       [0.11767347],\n",
       "       [0.11782205]])"
      ]
     },
     "execution_count": 46,
     "metadata": {},
     "output_type": "execute_result"
    }
   ],
   "source": [
    "#os dados serão normalizados para melhorar a performance e dimensionalidade (escala entre 0 e 1)\n",
    "from sklearn.preprocessing import MinMaxScaler\n",
    "min_scaler = MinMaxScaler(feature_range=(0,1))\n",
    "base_treinamento_normalizado = min_scaler.fit_transform(base_treinamento)\n",
    "base_treinamento_normalizado[0:5]"
   ]
  },
  {
   "cell_type": "code",
   "execution_count": 47,
   "metadata": {},
   "outputs": [],
   "source": [
    "#Utilizaremos uma janela de 500 dias anteriores da base de treinamento para nossas previsões.\n",
    "previsores = []\n",
    "preco_real = []\n",
    "\n",
    "for i in range(500, len(base)):\n",
    "    previsores.append(base_treinamento_normalizado[i-500:i,0])\n",
    "    preco_real.append(base_treinamento_normalizado[i,0])\n",
    "    "
   ]
  },
  {
   "cell_type": "code",
   "execution_count": 48,
   "metadata": {},
   "outputs": [
    {
     "name": "stdout",
     "output_type": "stream",
     "text": [
      "Tamanho do Dataset criado de previsores 3356\n",
      "Tamanho do Dataset criado de preco_real 3356\n"
     ]
    }
   ],
   "source": [
    "print('Tamanho do Dataset criado de previsores', len(previsores))\n",
    "print('Tamanho do Dataset criado de preco_real', len(preco_real))"
   ]
  },
  {
   "cell_type": "code",
   "execution_count": 49,
   "metadata": {},
   "outputs": [
    {
     "name": "stdout",
     "output_type": "stream",
     "text": [
      "Formato Previsores (3356, 500)\n",
      "Formato Preco_real (3356,)\n"
     ]
    }
   ],
   "source": [
    "#Os dados serão transformados para o formato do Numpy\n",
    "previsores, preco_real = np.array(previsores), np.array(preco_real)\n",
    "print('Formato Previsores', previsores.shape)\n",
    "print('Formato Preco_real', preco_real.shape)"
   ]
  },
  {
   "cell_type": "code",
   "execution_count": 50,
   "metadata": {},
   "outputs": [
    {
     "data": {
      "text/plain": [
       "(3356, 500, 1)"
      ]
     },
     "execution_count": 50,
     "metadata": {},
     "output_type": "execute_result"
    }
   ],
   "source": [
    "#Converter o formato para o padrão Keras\n",
    "previsores = np.reshape(previsores, newshape = (previsores.shape[0], previsores.shape[1], 1))\n",
    "previsores.shape"
   ]
  },
  {
   "cell_type": "code",
   "execution_count": 51,
   "metadata": {},
   "outputs": [],
   "source": [
    "#Criação do regressor com Rede Neural Recorrente\n",
    "regressor = Sequential()\n",
    "regressor.add(LSTM(units = 100, return_sequences = True, input_shape = (previsores.shape[1], 1)))\n",
    "\n",
    "regressor.add(Dropout(0.3))\n",
    "\n",
    "regressor.add(LSTM(units = 50, return_sequences = True))\n",
    "regressor.add(Dropout(0.3))\n",
    "\n",
    "regressor.add(LSTM(units = 50, return_sequences = True))\n",
    "regressor.add(Dropout(0.3))\n",
    "\n",
    "regressor.add(LSTM(units = 50, return_sequences = False))\n",
    "regressor.add(Dropout(0.3))\n",
    "\n",
    "regressor.add(Dense(units=1, activation='linear'))"
   ]
  },
  {
   "cell_type": "code",
   "execution_count": 52,
   "metadata": {},
   "outputs": [],
   "source": [
    "regressor.compile(optimizer='adam', loss='mean_squared_error', metrics=['mean_absolute_error'])"
   ]
  },
  {
   "cell_type": "code",
   "execution_count": 53,
   "metadata": {},
   "outputs": [
    {
     "name": "stdout",
     "output_type": "stream",
     "text": [
      "Epoch 1/20\n",
      "105/105 [==============================] - 76s 726ms/step - loss: 0.0202 - mean_absolute_error: 0.0892\n",
      "Epoch 2/20\n",
      "105/105 [==============================] - 77s 735ms/step - loss: 0.0055 - mean_absolute_error: 0.0525\n",
      "Epoch 3/20\n",
      "105/105 [==============================] - 77s 735ms/step - loss: 0.0047 - mean_absolute_error: 0.0487\n",
      "Epoch 4/20\n",
      "105/105 [==============================] - 78s 745ms/step - loss: 0.0043 - mean_absolute_error: 0.0467\n",
      "Epoch 5/20\n",
      "105/105 [==============================] - 77s 732ms/step - loss: 0.0040 - mean_absolute_error: 0.0457\n",
      "Epoch 6/20\n",
      "105/105 [==============================] - 79s 751ms/step - loss: 0.0036 - mean_absolute_error: 0.0428\n",
      "Epoch 7/20\n",
      "105/105 [==============================] - 77s 734ms/step - loss: 0.0036 - mean_absolute_error: 0.0427\n",
      "Epoch 8/20\n",
      "105/105 [==============================] - 77s 731ms/step - loss: 0.0036 - mean_absolute_error: 0.0430\n",
      "Epoch 9/20\n",
      "105/105 [==============================] - 73s 695ms/step - loss: 0.0035 - mean_absolute_error: 0.0427\n",
      "Epoch 10/20\n",
      "105/105 [==============================] - 71s 678ms/step - loss: 0.0032 - mean_absolute_error: 0.0411\n",
      "Epoch 11/20\n",
      "105/105 [==============================] - 71s 674ms/step - loss: 0.0030 - mean_absolute_error: 0.0394\n",
      "Epoch 12/20\n",
      "105/105 [==============================] - 72s 686ms/step - loss: 0.0028 - mean_absolute_error: 0.0383\n",
      "Epoch 13/20\n",
      "105/105 [==============================] - 71s 679ms/step - loss: 0.0027 - mean_absolute_error: 0.0378\n",
      "Epoch 14/20\n",
      "105/105 [==============================] - 71s 679ms/step - loss: 0.0028 - mean_absolute_error: 0.0381\n",
      "Epoch 15/20\n",
      "105/105 [==============================] - 71s 677ms/step - loss: 0.0025 - mean_absolute_error: 0.0370\n",
      "Epoch 16/20\n",
      "105/105 [==============================] - 72s 683ms/step - loss: 0.0026 - mean_absolute_error: 0.0371\n",
      "Epoch 17/20\n",
      "105/105 [==============================] - 71s 675ms/step - loss: 0.0024 - mean_absolute_error: 0.0358\n",
      "Epoch 18/20\n",
      "105/105 [==============================] - 71s 675ms/step - loss: 0.0022 - mean_absolute_error: 0.0347\n",
      "Epoch 19/20\n",
      "105/105 [==============================] - 71s 678ms/step - loss: 0.0024 - mean_absolute_error: 0.0366\n",
      "Epoch 20/20\n",
      "105/105 [==============================] - 71s 679ms/step - loss: 0.0021 - mean_absolute_error: 0.0339\n"
     ]
    },
    {
     "data": {
      "text/plain": [
       "<tensorflow.python.keras.callbacks.History at 0x19918a8bc48>"
      ]
     },
     "execution_count": 53,
     "metadata": {},
     "output_type": "execute_result"
    }
   ],
   "source": [
    "#Treinamento da Rede Neural\n",
    "regressor.fit(previsores, preco_real, epochs=20, batch_size=32)"
   ]
  },
  {
   "cell_type": "code",
   "execution_count": 54,
   "metadata": {},
   "outputs": [
    {
     "data": {
      "text/plain": [
       "array([[14.49],\n",
       "       [14.93],\n",
       "       [15.19],\n",
       "       [15.16],\n",
       "       [15.8 ],\n",
       "       [14.81],\n",
       "       [13.94],\n",
       "       [13.68],\n",
       "       [13.6 ],\n",
       "       [13.23],\n",
       "       [13.19],\n",
       "       [13.38],\n",
       "       [13.38],\n",
       "       [13.53],\n",
       "       [13.55],\n",
       "       [13.24],\n",
       "       [13.21],\n",
       "       [13.02],\n",
       "       [13.08],\n",
       "       [12.67],\n",
       "       [12.86],\n",
       "       [13.06],\n",
       "       [12.89]])"
      ]
     },
     "execution_count": 54,
     "metadata": {},
     "output_type": "execute_result"
    }
   ],
   "source": [
    "#Recebe os valores reais das próximas 23 cotações\n",
    "base_teste = pd.read_csv('ABEV3.SA_teste.csv')\n",
    "#Remove os possíveis valores 'NULL'\n",
    "base_teste.isnull().sum().max()\n",
    "base_teste.dropna(inplace=True)\n",
    "#Recebe a base mais os valores das proximas cotações\n",
    "base_completa = pd.concat((base['Open'], base_teste['Open']), axis=0)\n",
    "preco_real_teste = base_teste.iloc[:,1:2].values\n",
    "preco_real_teste"
   ]
  },
  {
   "cell_type": "code",
   "execution_count": 55,
   "metadata": {},
   "outputs": [
    {
     "data": {
      "text/plain": [
       "113"
      ]
     },
     "execution_count": 55,
     "metadata": {},
     "output_type": "execute_result"
    }
   ],
   "source": [
    "#entradas recebe a base_completa[len(base_completa)-113:]\n",
    "entradas = base_completa[len(base_completa) - len(base_teste) - 90:].values\n",
    "len(entradas)"
   ]
  },
  {
   "cell_type": "code",
   "execution_count": 56,
   "metadata": {},
   "outputs": [],
   "source": [
    "#Normalizar dados de entrada\n",
    "entradas = entradas.reshape(-1,1)\n",
    "entradas = min_scaler.transform(entradas)"
   ]
  },
  {
   "cell_type": "code",
   "execution_count": 57,
   "metadata": {},
   "outputs": [],
   "source": [
    "X_teste = []\n",
    "for i in range(90, 113):\n",
    "    X_teste.append(entradas[i-90:i,0])\n",
    "X_teste = np.array(X_teste)\n",
    "X_teste = np.reshape(X_teste, newshape=(X_teste.shape[0], X_teste.shape[1], 1))"
   ]
  },
  {
   "cell_type": "code",
   "execution_count": 58,
   "metadata": {},
   "outputs": [
    {
     "name": "stdout",
     "output_type": "stream",
     "text": [
      "WARNING:tensorflow:Model was constructed with shape (None, 500, 1) for input Tensor(\"lstm_4_input:0\", shape=(None, 500, 1), dtype=float32), but it was called on an input with incompatible shape (None, 90, 1).\n"
     ]
    },
    {
     "data": {
      "text/plain": [
       "array([[14.26],\n",
       "       [14.24],\n",
       "       [14.25],\n",
       "       [14.29],\n",
       "       [14.35],\n",
       "       [14.46],\n",
       "       [14.58],\n",
       "       [14.69],\n",
       "       [14.77],\n",
       "       [14.79],\n",
       "       [14.74],\n",
       "       [14.61],\n",
       "       [14.43],\n",
       "       [14.21],\n",
       "       [13.99],\n",
       "       [13.78],\n",
       "       [13.6 ],\n",
       "       [13.47],\n",
       "       [13.37],\n",
       "       [13.3 ],\n",
       "       [13.26],\n",
       "       [13.22],\n",
       "       [13.18]], dtype=float32)"
      ]
     },
     "execution_count": 58,
     "metadata": {},
     "output_type": "execute_result"
    }
   ],
   "source": [
    "#Faz a predição da próxima cotação\n",
    "previsoes = regressor.predict(X_teste)\n",
    "#Inverte padronização dos dados para melhor vizualização\n",
    "previsoes = min_scaler.inverse_transform(previsoes)\n",
    "previsoes = np.round(previsoes, 2)\n",
    "previsoes"
   ]
  },
  {
   "cell_type": "code",
   "execution_count": 59,
   "metadata": {},
   "outputs": [],
   "source": [
    "#Criação de um array de duas colunas (preço real e as previsões para comparação)\n",
    "quadro_previsao = np.concatenate((preco_real_teste, previsoes), axis= 1)"
   ]
  },
  {
   "cell_type": "code",
   "execution_count": 60,
   "metadata": {},
   "outputs": [
    {
     "data": {
      "text/html": [
       "<div>\n",
       "<style scoped>\n",
       "    .dataframe tbody tr th:only-of-type {\n",
       "        vertical-align: middle;\n",
       "    }\n",
       "\n",
       "    .dataframe tbody tr th {\n",
       "        vertical-align: top;\n",
       "    }\n",
       "\n",
       "    .dataframe thead th {\n",
       "        text-align: right;\n",
       "    }\n",
       "</style>\n",
       "<table border=\"1\" class=\"dataframe\">\n",
       "  <thead>\n",
       "    <tr style=\"text-align: right;\">\n",
       "      <th></th>\n",
       "      <th>Preco_real</th>\n",
       "      <th>Previsao</th>\n",
       "      <th>Erro</th>\n",
       "    </tr>\n",
       "  </thead>\n",
       "  <tbody>\n",
       "    <tr>\n",
       "      <th>0</th>\n",
       "      <td>14.49</td>\n",
       "      <td>14.26</td>\n",
       "      <td>0.23</td>\n",
       "    </tr>\n",
       "    <tr>\n",
       "      <th>1</th>\n",
       "      <td>14.93</td>\n",
       "      <td>14.24</td>\n",
       "      <td>0.69</td>\n",
       "    </tr>\n",
       "    <tr>\n",
       "      <th>2</th>\n",
       "      <td>15.19</td>\n",
       "      <td>14.25</td>\n",
       "      <td>0.94</td>\n",
       "    </tr>\n",
       "    <tr>\n",
       "      <th>3</th>\n",
       "      <td>15.16</td>\n",
       "      <td>14.29</td>\n",
       "      <td>0.87</td>\n",
       "    </tr>\n",
       "    <tr>\n",
       "      <th>4</th>\n",
       "      <td>15.80</td>\n",
       "      <td>14.35</td>\n",
       "      <td>1.45</td>\n",
       "    </tr>\n",
       "    <tr>\n",
       "      <th>5</th>\n",
       "      <td>14.81</td>\n",
       "      <td>14.46</td>\n",
       "      <td>0.35</td>\n",
       "    </tr>\n",
       "    <tr>\n",
       "      <th>6</th>\n",
       "      <td>13.94</td>\n",
       "      <td>14.58</td>\n",
       "      <td>-0.64</td>\n",
       "    </tr>\n",
       "    <tr>\n",
       "      <th>7</th>\n",
       "      <td>13.68</td>\n",
       "      <td>14.69</td>\n",
       "      <td>-1.01</td>\n",
       "    </tr>\n",
       "    <tr>\n",
       "      <th>8</th>\n",
       "      <td>13.60</td>\n",
       "      <td>14.77</td>\n",
       "      <td>-1.17</td>\n",
       "    </tr>\n",
       "    <tr>\n",
       "      <th>9</th>\n",
       "      <td>13.23</td>\n",
       "      <td>14.79</td>\n",
       "      <td>-1.56</td>\n",
       "    </tr>\n",
       "    <tr>\n",
       "      <th>10</th>\n",
       "      <td>13.19</td>\n",
       "      <td>14.74</td>\n",
       "      <td>-1.55</td>\n",
       "    </tr>\n",
       "    <tr>\n",
       "      <th>11</th>\n",
       "      <td>13.38</td>\n",
       "      <td>14.61</td>\n",
       "      <td>-1.23</td>\n",
       "    </tr>\n",
       "    <tr>\n",
       "      <th>12</th>\n",
       "      <td>13.38</td>\n",
       "      <td>14.43</td>\n",
       "      <td>-1.05</td>\n",
       "    </tr>\n",
       "    <tr>\n",
       "      <th>13</th>\n",
       "      <td>13.53</td>\n",
       "      <td>14.21</td>\n",
       "      <td>-0.68</td>\n",
       "    </tr>\n",
       "    <tr>\n",
       "      <th>14</th>\n",
       "      <td>13.55</td>\n",
       "      <td>13.99</td>\n",
       "      <td>-0.44</td>\n",
       "    </tr>\n",
       "    <tr>\n",
       "      <th>15</th>\n",
       "      <td>13.24</td>\n",
       "      <td>13.78</td>\n",
       "      <td>-0.54</td>\n",
       "    </tr>\n",
       "    <tr>\n",
       "      <th>16</th>\n",
       "      <td>13.21</td>\n",
       "      <td>13.60</td>\n",
       "      <td>-0.39</td>\n",
       "    </tr>\n",
       "    <tr>\n",
       "      <th>17</th>\n",
       "      <td>13.02</td>\n",
       "      <td>13.47</td>\n",
       "      <td>-0.45</td>\n",
       "    </tr>\n",
       "    <tr>\n",
       "      <th>18</th>\n",
       "      <td>13.08</td>\n",
       "      <td>13.37</td>\n",
       "      <td>-0.29</td>\n",
       "    </tr>\n",
       "    <tr>\n",
       "      <th>19</th>\n",
       "      <td>12.67</td>\n",
       "      <td>13.30</td>\n",
       "      <td>-0.63</td>\n",
       "    </tr>\n",
       "    <tr>\n",
       "      <th>20</th>\n",
       "      <td>12.86</td>\n",
       "      <td>13.26</td>\n",
       "      <td>-0.40</td>\n",
       "    </tr>\n",
       "    <tr>\n",
       "      <th>21</th>\n",
       "      <td>13.06</td>\n",
       "      <td>13.22</td>\n",
       "      <td>-0.16</td>\n",
       "    </tr>\n",
       "    <tr>\n",
       "      <th>22</th>\n",
       "      <td>12.89</td>\n",
       "      <td>13.18</td>\n",
       "      <td>-0.29</td>\n",
       "    </tr>\n",
       "  </tbody>\n",
       "</table>\n",
       "</div>"
      ],
      "text/plain": [
       "    Preco_real  Previsao  Erro\n",
       "0        14.49     14.26  0.23\n",
       "1        14.93     14.24  0.69\n",
       "2        15.19     14.25  0.94\n",
       "3        15.16     14.29  0.87\n",
       "4        15.80     14.35  1.45\n",
       "5        14.81     14.46  0.35\n",
       "6        13.94     14.58 -0.64\n",
       "7        13.68     14.69 -1.01\n",
       "8        13.60     14.77 -1.17\n",
       "9        13.23     14.79 -1.56\n",
       "10       13.19     14.74 -1.55\n",
       "11       13.38     14.61 -1.23\n",
       "12       13.38     14.43 -1.05\n",
       "13       13.53     14.21 -0.68\n",
       "14       13.55     13.99 -0.44\n",
       "15       13.24     13.78 -0.54\n",
       "16       13.21     13.60 -0.39\n",
       "17       13.02     13.47 -0.45\n",
       "18       13.08     13.37 -0.29\n",
       "19       12.67     13.30 -0.63\n",
       "20       12.86     13.26 -0.40\n",
       "21       13.06     13.22 -0.16\n",
       "22       12.89     13.18 -0.29"
      ]
     },
     "execution_count": 60,
     "metadata": {},
     "output_type": "execute_result"
    }
   ],
   "source": [
    "#Quadro convertido em DataFrame para melhor visualização e adicionado uma segunda coluna 'Erro'\n",
    "quadro_previsao = pd.DataFrame(quadro_previsao, columns=['Preco_real', 'Previsao'])\n",
    "quadro_previsao['Erro'] = quadro_previsao['Preco_real'] - quadro_previsao['Previsao']\n",
    "quadro_previsao['Erro'] = np.round(quadro_previsao['Erro'], 2)\n",
    "quadro_previsao"
   ]
  },
  {
   "cell_type": "code",
   "execution_count": 61,
   "metadata": {},
   "outputs": [
    {
     "name": "stdout",
     "output_type": "stream",
     "text": [
      "Media Preco Reais 13.734347826086958\n",
      "Media Previsoes 14.08\n",
      "Diferenca da media entre o valor_real e a previsao 0.35\n"
     ]
    }
   ],
   "source": [
    "print('Media Preco Reais', preco_real_teste.mean())\n",
    "print('Media Previsoes', previsoes.mean())\n",
    "print('Diferenca da media entre o valor_real e a previsao', round(previsoes.mean() - preco_real_teste.mean(), 2))"
   ]
  },
  {
   "cell_type": "code",
   "execution_count": 62,
   "metadata": {},
   "outputs": [
    {
     "data": {
      "text/plain": [
       "<function matplotlib.pyplot.show(*args, **kw)>"
      ]
     },
     "execution_count": 62,
     "metadata": {},
     "output_type": "execute_result"
    },
    {
     "data": {
      "image/png": "[encoded data removed]",
      "text/plain": [
       "<Figure size 720x576 with 1 Axes>"
      ]
     },
     "metadata": {
      "needs_background": "light"
     },
     "output_type": "display_data"
    }
   ],
   "source": [
    "plt.figure(figsize=(10,8))\n",
    "plt.plot(preco_real_teste, color='red', label='Preco_Real')\n",
    "plt.plot(previsoes, color = 'blue', label = 'Previsoes')\n",
    "plt.title('Previsao de preco da PETR4')\n",
    "plt.legend()\n",
    "plt.xlabel('Periodo')\n",
    "plt.ylabel('Precos')\n",
    "plt.show"
   ]
  },
  {
   "cell_type": "code",
   "execution_count": null,
   "metadata": {},
   "outputs": [],
   "source": []
  }
 ],
 "metadata": {
  "kernelspec": {
   "display_name": "Python 3",
   "language": "python",
   "name": "python3"
  },
  "language_info": {
   "codemirror_mode": {
    "name": "ipython",
    "version": 3
   },
   "file_extension": ".py",
   "mimetype": "text/x-python",
   "name": "python",
   "nbconvert_exporter": "python",
   "pygments_lexer": "ipython3",
   "version": "3.7.6"
  }
 },
 "nbformat": 4,
 "nbformat_minor": 4
}
